{
 "cells": [
  {
   "cell_type": "code",
   "execution_count": 1,
   "metadata": {},
   "outputs": [],
   "source": [
    "LOAD = True"
   ]
  },
  {
   "cell_type": "code",
   "execution_count": 2,
   "metadata": {
    "_cell_guid": "5abea3ac-4fa5-4c4f-893f-7f2afa49e523",
    "_kg_hide-output": true,
    "_uuid": "337e0950ca948be32d5d881c1a3c675ccf7ac523"
   },
   "outputs": [
    {
     "name": "stderr",
     "output_type": "stream",
     "text": [
      "/home/ankur16225/anaconda3/lib/python3.6/site-packages/h5py/__init__.py:36: FutureWarning: Conversion of the second argument of issubdtype from `float` to `np.floating` is deprecated. In future, it will be treated as `np.float64 == np.dtype(float).type`.\n",
      "  from ._conv import register_converters as _register_converters\n",
      "Using TensorFlow backend.\n"
     ]
    }
   ],
   "source": [
    "import numpy as np\n",
    "np.random.seed(1001)\n",
    "\n",
    "import os\n",
    "import shutil\n",
    "\n",
    "import IPython\n",
    "import matplotlib\n",
    "import matplotlib.pyplot as plt\n",
    "import pandas as pd\n",
    "import seaborn as sns\n",
    "from tqdm import tqdm_notebook\n",
    "from sklearn.model_selection import StratifiedKFold\n",
    "\n",
    "import wave\n",
    "from scipy.io import wavfile\n",
    "\n",
    "import librosa\n",
    "import numpy as np\n",
    "import scipy\n",
    "\n",
    "from keras import losses, models, optimizers\n",
    "from keras.activations import relu, softmax\n",
    "from keras.callbacks import (EarlyStopping, LearningRateScheduler,\n",
    "                             ModelCheckpoint, TensorBoard, ReduceLROnPlateau)\n",
    "from keras.layers import (Convolution1D, Dense, Dropout, GlobalAveragePooling1D, \n",
    "                          GlobalMaxPool1D, Input, MaxPool1D, concatenate)\n",
    "from keras.utils import Sequence, to_categorical\n",
    "\n",
    "from keras.layers import (Convolution2D, GlobalAveragePooling2D, BatchNormalization, Flatten,\n",
    "                          GlobalMaxPool2D, MaxPool2D, concatenate, Activation)\n",
    "from keras.utils import Sequence, to_categorical\n",
    "from keras import backend as K\n",
    "from keras.models import Sequential\n",
    "\n",
    "%matplotlib inline\n",
    "matplotlib.style.use('ggplot')"
   ]
  },
  {
   "cell_type": "code",
   "execution_count": 3,
   "metadata": {
    "_cell_guid": "97700e3e-82e1-4ce2-9da4-3f8f264e7558",
    "_kg_hide-output": true,
    "_uuid": "2ca1929548de57afb1c4fde19c10f7b18c64264e"
   },
   "outputs": [],
   "source": [
    "train = pd.read_csv(\"../data/train.csv\")\n",
    "test = pd.read_csv(\"../data/test_post_competition.csv\")"
   ]
  },
  {
   "cell_type": "code",
   "execution_count": 4,
   "metadata": {
    "_cell_guid": "a418ce4d-b104-4710-b50d-e9ab1e7e420f",
    "_kg_hide-output": true,
    "_uuid": "1acc16aa65e8f39a5abd8b60906740a671659f1b"
   },
   "outputs": [
    {
     "data": {
      "text/html": [
       "<div>\n",
       "<style scoped>\n",
       "    .dataframe tbody tr th:only-of-type {\n",
       "        vertical-align: middle;\n",
       "    }\n",
       "\n",
       "    .dataframe tbody tr th {\n",
       "        vertical-align: top;\n",
       "    }\n",
       "\n",
       "    .dataframe thead th {\n",
       "        text-align: right;\n",
       "    }\n",
       "</style>\n",
       "<table border=\"1\" class=\"dataframe\">\n",
       "  <thead>\n",
       "    <tr style=\"text-align: right;\">\n",
       "      <th></th>\n",
       "      <th>fname</th>\n",
       "      <th>label</th>\n",
       "      <th>manually_verified</th>\n",
       "    </tr>\n",
       "  </thead>\n",
       "  <tbody>\n",
       "    <tr>\n",
       "      <th>0</th>\n",
       "      <td>00044347.wav</td>\n",
       "      <td>Hi-hat</td>\n",
       "      <td>0</td>\n",
       "    </tr>\n",
       "    <tr>\n",
       "      <th>1</th>\n",
       "      <td>001ca53d.wav</td>\n",
       "      <td>Saxophone</td>\n",
       "      <td>1</td>\n",
       "    </tr>\n",
       "    <tr>\n",
       "      <th>2</th>\n",
       "      <td>002d256b.wav</td>\n",
       "      <td>Trumpet</td>\n",
       "      <td>0</td>\n",
       "    </tr>\n",
       "    <tr>\n",
       "      <th>3</th>\n",
       "      <td>0033e230.wav</td>\n",
       "      <td>Glockenspiel</td>\n",
       "      <td>1</td>\n",
       "    </tr>\n",
       "    <tr>\n",
       "      <th>4</th>\n",
       "      <td>00353774.wav</td>\n",
       "      <td>Cello</td>\n",
       "      <td>1</td>\n",
       "    </tr>\n",
       "  </tbody>\n",
       "</table>\n",
       "</div>"
      ],
      "text/plain": [
       "          fname         label  manually_verified\n",
       "0  00044347.wav        Hi-hat                  0\n",
       "1  001ca53d.wav     Saxophone                  1\n",
       "2  002d256b.wav       Trumpet                  0\n",
       "3  0033e230.wav  Glockenspiel                  1\n",
       "4  00353774.wav         Cello                  1"
      ]
     },
     "execution_count": 4,
     "metadata": {},
     "output_type": "execute_result"
    }
   ],
   "source": [
    "train.head()"
   ]
  },
  {
   "cell_type": "code",
   "execution_count": 5,
   "metadata": {},
   "outputs": [
    {
     "data": {
      "text/html": [
       "<div>\n",
       "<style scoped>\n",
       "    .dataframe tbody tr th:only-of-type {\n",
       "        vertical-align: middle;\n",
       "    }\n",
       "\n",
       "    .dataframe tbody tr th {\n",
       "        vertical-align: top;\n",
       "    }\n",
       "\n",
       "    .dataframe thead th {\n",
       "        text-align: right;\n",
       "    }\n",
       "</style>\n",
       "<table border=\"1\" class=\"dataframe\">\n",
       "  <thead>\n",
       "    <tr style=\"text-align: right;\">\n",
       "      <th></th>\n",
       "      <th>fname</th>\n",
       "      <th>label</th>\n",
       "      <th>usage</th>\n",
       "      <th>freesound_id</th>\n",
       "      <th>license</th>\n",
       "    </tr>\n",
       "  </thead>\n",
       "  <tbody>\n",
       "    <tr>\n",
       "      <th>4</th>\n",
       "      <td>00326aa9.wav</td>\n",
       "      <td>Oboe</td>\n",
       "      <td>Private</td>\n",
       "      <td>355125</td>\n",
       "      <td>Attribution</td>\n",
       "    </tr>\n",
       "    <tr>\n",
       "      <th>5</th>\n",
       "      <td>0038a046.wav</td>\n",
       "      <td>Bass_drum</td>\n",
       "      <td>Private</td>\n",
       "      <td>90621</td>\n",
       "      <td>Creative Commons 0</td>\n",
       "    </tr>\n",
       "    <tr>\n",
       "      <th>8</th>\n",
       "      <td>007759c4.wav</td>\n",
       "      <td>Saxophone</td>\n",
       "      <td>Private</td>\n",
       "      <td>13406</td>\n",
       "      <td>Creative Commons 0</td>\n",
       "    </tr>\n",
       "    <tr>\n",
       "      <th>9</th>\n",
       "      <td>008afd93.wav</td>\n",
       "      <td>Saxophone</td>\n",
       "      <td>Private</td>\n",
       "      <td>358962</td>\n",
       "      <td>Attribution</td>\n",
       "    </tr>\n",
       "    <tr>\n",
       "      <th>12</th>\n",
       "      <td>00ae03f6.wav</td>\n",
       "      <td>Chime</td>\n",
       "      <td>Private</td>\n",
       "      <td>78203</td>\n",
       "      <td>Attribution</td>\n",
       "    </tr>\n",
       "  </tbody>\n",
       "</table>\n",
       "</div>"
      ],
      "text/plain": [
       "           fname      label    usage  freesound_id             license\n",
       "4   00326aa9.wav       Oboe  Private        355125         Attribution\n",
       "5   0038a046.wav  Bass_drum  Private         90621  Creative Commons 0\n",
       "8   007759c4.wav  Saxophone  Private         13406  Creative Commons 0\n",
       "9   008afd93.wav  Saxophone  Private        358962         Attribution\n",
       "12  00ae03f6.wav      Chime  Private         78203         Attribution"
      ]
     },
     "execution_count": 5,
     "metadata": {},
     "output_type": "execute_result"
    }
   ],
   "source": [
    "# Remove None Label from test data\n",
    "test.drop(test[test.label == 'None'].index, inplace=True)\n",
    "test.head()"
   ]
  },
  {
   "cell_type": "code",
   "execution_count": 6,
   "metadata": {},
   "outputs": [
    {
     "name": "stdout",
     "output_type": "stream",
     "text": [
      "No. of Classes:  41\n",
      "No. of Training Samples: 9473, No. of Test Samples: 1600\n"
     ]
    }
   ],
   "source": [
    "print('No. of Classes: ', len(train.label.unique()))\n",
    "print('No. of Training Samples: {}, No. of Test Samples: {}'.format(len(train), len(test)))"
   ]
  },
  {
   "cell_type": "code",
   "execution_count": 7,
   "metadata": {},
   "outputs": [],
   "source": [
    "# print('Minimum samples per category = ', min(test.label.value_counts()))\n",
    "# print('Maximum samples per category = ', max(test.label.value_counts()))"
   ]
  },
  {
   "cell_type": "markdown",
   "metadata": {
    "_cell_guid": "64df4fea-4917-4762-b9be-68163f590c13",
    "_uuid": "927b4d615e24291f3c9510b653e723dc031fd042"
   },
   "source": [
    "#### Hyper-parameters"
   ]
  },
  {
   "cell_type": "code",
   "execution_count": 8,
   "metadata": {},
   "outputs": [],
   "source": [
    "SAMPLING_RATE = 44100\n",
    "DURATION = 2\n",
    "CLASSES = 41\n",
    "LEARNING_RATE = .001\n",
    "MAX_EPOCHS = 50\n",
    "BATCH_SIZE = 32\n",
    "AUDIO_LENGTH = SAMPLING_RATE * DURATION\n",
    "N_MFCC = 40\n",
    "DIM = (N_MFCC, 1 + int(np.floor(AUDIO_LENGTH/512)), 1)"
   ]
  },
  {
   "cell_type": "markdown",
   "metadata": {
    "_cell_guid": "5015b22f-5de8-4a86-aef4-074bf90023aa",
    "_uuid": "59502f44b22674250a047e89b610867d6c6306c3"
   },
   "source": [
    "#### MFCC Model"
   ]
  },
  {
   "cell_type": "code",
   "execution_count": 9,
   "metadata": {
    "_cell_guid": "97d07753-d78d-465d-936d-7f03eaf1def1",
    "_uuid": "0b2ac601f52ae4ed9dc849fcd095ab94cfe878fe"
   },
   "outputs": [],
   "source": [
    "def build_model():\n",
    "    inp = Input(shape=(DIM[0], DIM[1],1))\n",
    "    x = Convolution2D(32, (4,10), padding=\"same\")(inp)\n",
    "    x = BatchNormalization()(x)\n",
    "    x = Activation(\"relu\")(x)\n",
    "    x = MaxPool2D()(x)\n",
    "\n",
    "    x = Convolution2D(32, (4,10), padding=\"same\")(x)\n",
    "    x = BatchNormalization()(x)\n",
    "    x = Activation(\"relu\")(x)\n",
    "    x = MaxPool2D()(x)\n",
    "\n",
    "    x = Convolution2D(32, (4,10), padding=\"same\")(x)\n",
    "    x = BatchNormalization()(x)\n",
    "    x = Activation(\"relu\")(x)\n",
    "    x = MaxPool2D()(x)\n",
    "\n",
    "    x = Convolution2D(32, (4,10), padding=\"same\")(x)\n",
    "    x = BatchNormalization()(x)\n",
    "    x = Activation(\"relu\")(x)\n",
    "    x = MaxPool2D()(x)\n",
    "\n",
    "    x = Flatten()(x)\n",
    "    x = Dense(64)(x)\n",
    "    x = BatchNormalization()(x)\n",
    "    x = Activation(\"relu\")(x)\n",
    "    out = Dense(CLASSES, activation=softmax)(x)\n",
    "\n",
    "    model = models.Model(inputs=inp, outputs=out)\n",
    "    opt = optimizers.Adam(LEARNING_RATE)\n",
    "\n",
    "    model.compile(optimizer=opt, loss=losses.categorical_crossentropy, metrics=['acc'])\n",
    "    return model"
   ]
  },
  {
   "cell_type": "code",
   "execution_count": 10,
   "metadata": {},
   "outputs": [],
   "source": [
    "from keras.utils.vis_utils import plot_model\n",
    "model = build_model()\n",
    "plot_model(model, to_file='model_plot.png')"
   ]
  },
  {
   "cell_type": "code",
   "execution_count": 11,
   "metadata": {},
   "outputs": [],
   "source": [
    "LABELS = list(train.label.unique())\n",
    "label_idx = {label: i for i, label in enumerate(LABELS)}\n",
    "train.set_index(\"fname\", inplace=True)\n",
    "test.set_index(\"fname\", inplace=True)\n",
    "train[\"label_idx\"] = train.label.apply(lambda x: label_idx[x])\n",
    "test[\"label_idx\"] = test.label.apply(lambda x: label_idx[x])"
   ]
  },
  {
   "cell_type": "code",
   "execution_count": 12,
   "metadata": {
    "_cell_guid": "5b9b1c9b-7e02-46f3-96f6-67ebc9bf9132",
    "_uuid": "5242e943f1bc1154d19c03c361a826553c811cfe"
   },
   "outputs": [],
   "source": [
    "def prepare_data(df, data_dir):\n",
    "    X = np.empty(shape=(df.shape[0], DIM[0], DIM[1], 1))\n",
    "    input_length = AUDIO_LENGTH\n",
    "    for i, fname in tqdm_notebook(enumerate(df.index)):\n",
    "        file_path = data_dir + fname\n",
    "        data, _ = librosa.core.load(file_path, sr=SAMPLING_RATE, res_type=\"kaiser_fast\")\n",
    "\n",
    "        # Random offset / Padding\n",
    "        if len(data) > input_length:\n",
    "            max_offset = len(data) - input_length\n",
    "            offset = np.random.randint(max_offset)\n",
    "            data = data[offset:(input_length+offset)]\n",
    "        else:\n",
    "            if input_length > len(data):\n",
    "                max_offset = input_length - len(data)\n",
    "                offset = np.random.randint(max_offset)\n",
    "            else:\n",
    "                offset = 0\n",
    "            data = np.pad(data, (offset, input_length - len(data) - offset), \"constant\")\n",
    "\n",
    "        data = librosa.feature.mfcc(data, sr=SAMPLING_RATE, n_mfcc=N_MFCC)\n",
    "        data = np.expand_dims(data, axis=-1)\n",
    "        X[i,] = data\n",
    "    return X"
   ]
  },
  {
   "cell_type": "code",
   "execution_count": 13,
   "metadata": {
    "_cell_guid": "c9910de1-388b-470e-8908-6df548f1b866",
    "_uuid": "bb3bc487b52a549a856807dd838a4f6cd209917d"
   },
   "outputs": [],
   "source": [
    "if not LOAD:\n",
    "    X_train = prepare_data(train, '../data/audio_train/')\n",
    "    X_test = prepare_data(test, '../data/audio_test/')"
   ]
  },
  {
   "cell_type": "code",
   "execution_count": 14,
   "metadata": {
    "_cell_guid": "c9910de1-388b-470e-8908-6df548f1b866",
    "_uuid": "bb3bc487b52a549a856807dd838a4f6cd209917d"
   },
   "outputs": [],
   "source": [
    "y_train = to_categorical(train.label_idx, num_classes=CLASSES)\n",
    "y_test = to_categorical(test.label_idx, num_classes=CLASSES)"
   ]
  },
  {
   "cell_type": "code",
   "execution_count": 15,
   "metadata": {
    "_cell_guid": "928b0993-7799-4b75-bef8-c1df3755632e",
    "_uuid": "60b6d9dfcb25eb9b3cef7e05675d67b104e24b31"
   },
   "outputs": [],
   "source": [
    "# Normalization\n",
    "if not LOAD:\n",
    "    mean = np.mean(X_train, axis=0)\n",
    "    std = np.std(X_train, axis=0)\n",
    "\n",
    "    X_train = (X_train - mean)/std\n",
    "    X_test = (X_test - mean)/std"
   ]
  },
  {
   "cell_type": "markdown",
   "metadata": {
    "_cell_guid": "af8afd09-66bf-4618-ad95-d70db35b90ec",
    "_uuid": "b70fea949114595111c39f9f64fb1752603e3fdf"
   },
   "source": [
    "### Training.."
   ]
  },
  {
   "cell_type": "code",
   "execution_count": 16,
   "metadata": {
    "_cell_guid": "10fb7477-8122-49fb-be81-1adb7aa45c7f",
    "_uuid": "ab0f2bc7e7bbaced3eb2e4c3acb7c7c63aa73681"
   },
   "outputs": [],
   "source": [
    "PREDICTION_FOLDER = \"predictions\"\n",
    "if not LOAD:\n",
    "    if not os.path.exists(PREDICTION_FOLDER):\n",
    "        os.mkdir(PREDICTION_FOLDER)\n",
    "    if os.path.exists('logs/' + PREDICTION_FOLDER):\n",
    "        shutil.rmtree('logs/' + PREDICTION_FOLDER)"
   ]
  },
  {
   "cell_type": "code",
   "execution_count": 17,
   "metadata": {
    "_cell_guid": "10fb7477-8122-49fb-be81-1adb7aa45c7f",
    "_uuid": "ab0f2bc7e7bbaced3eb2e4c3acb7c7c63aa73681"
   },
   "outputs": [],
   "source": [
    "if not LOAD:\n",
    "    K.clear_session()\n",
    "\n",
    "    checkpoint = ModelCheckpoint('best_weights.h5', monitor='val_loss', verbose=1, save_best_only=True)\n",
    "    early = EarlyStopping(monitor=\"val_loss\", mode=\"min\", patience=10)\n",
    "    tb = TensorBoard(log_dir='./logs/' + PREDICTION_FOLDER, write_graph=True)\n",
    "    callbacks_list = [checkpoint, early, tb]\n",
    "\n",
    "    model = build_model()\n",
    "\n",
    "    history = model.fit(X_train, y_train, validation_data=(X_test, y_test), callbacks=callbacks_list, \n",
    "                        batch_size=64, epochs=MAX_EPOCHS)\n",
    "\n",
    "    model.save_weights('weights_final.h5')"
   ]
  },
  {
   "cell_type": "code",
   "execution_count": 18,
   "metadata": {},
   "outputs": [],
   "source": [
    "# load best weights\n",
    "model = build_model()\n",
    "model.load_weights('weights_final.h5')"
   ]
  },
  {
   "cell_type": "code",
   "execution_count": 19,
   "metadata": {
    "_cell_guid": "10fb7477-8122-49fb-be81-1adb7aa45c7f",
    "_uuid": "ab0f2bc7e7bbaced3eb2e4c3acb7c7c63aa73681"
   },
   "outputs": [
    {
     "name": "stdout",
     "output_type": "stream",
     "text": [
      "Train Classification Report:\n",
      "              precision    recall  f1-score   support\n",
      "\n",
      "           0       0.96      0.94      0.95       300\n",
      "           1       0.91      0.99      0.95       300\n",
      "           2       0.98      0.89      0.93       300\n",
      "           3       0.70      1.00      0.82        94\n",
      "           4       0.99      0.85      0.92       300\n",
      "           5       0.93      0.91      0.92       279\n",
      "           6       0.86      0.73      0.79       147\n",
      "           7       1.00      0.98      0.99       300\n",
      "           8       0.99      0.75      0.85       119\n",
      "           9       0.89      0.91      0.90       139\n",
      "          10       0.98      0.91      0.94       300\n",
      "          11       0.73      0.92      0.81       270\n",
      "          12       0.81      0.98      0.89       300\n",
      "          13       0.99      0.72      0.83       300\n",
      "          14       0.98      0.83      0.90       300\n",
      "          15       0.98      1.00      0.99       299\n",
      "          16       0.99      0.91      0.95       300\n",
      "          17       0.81      0.97      0.89       243\n",
      "          18       0.94      0.83      0.88       120\n",
      "          19       0.89      0.95      0.92       239\n",
      "          20       0.80      0.93      0.86       115\n",
      "          21       0.99      0.89      0.93       300\n",
      "          22       0.93      0.82      0.87       109\n",
      "          23       0.91      0.86      0.89       300\n",
      "          24       0.77      0.62      0.69        95\n",
      "          25       0.98      0.98      0.98       165\n",
      "          26       0.90      0.94      0.92       292\n",
      "          27       0.89      0.72      0.80       146\n",
      "          28       0.99      0.90      0.95       210\n",
      "          29       0.95      0.96      0.96       300\n",
      "          30       0.91      0.90      0.91       300\n",
      "          31       0.67      0.97      0.79       300\n",
      "          32       0.99      0.92      0.95       221\n",
      "          33       0.98      0.95      0.97       191\n",
      "          34       0.88      0.91      0.90       150\n",
      "          35       0.95      0.91      0.93       155\n",
      "          36       0.75      0.91      0.82       158\n",
      "          37       0.92      0.96      0.94       300\n",
      "          38       0.92      0.93      0.92       300\n",
      "          39       1.00      0.95      0.97       300\n",
      "          40       0.94      0.90      0.92       117\n",
      "\n",
      "   micro avg       0.91      0.91      0.91      9473\n",
      "   macro avg       0.91      0.90      0.90      9473\n",
      "weighted avg       0.92      0.91      0.91      9473\n",
      "\n"
     ]
    }
   ],
   "source": [
    "if not LOAD:\n",
    "    # Save train predictions\n",
    "    predictions = model.predict(X_train, batch_size=64, verbose=1)\n",
    "    np.save(PREDICTION_FOLDER + '/train_predictions.npy', predictions)\n",
    "    train_eval = model.evaluate(x=X_train, y=y_train, batch_size=64, verbose=1)\n",
    "    print('Training Accuracy: ', train_eval[1])\n",
    "\n",
    "predictions = np.load(PREDICTION_FOLDER + '/train_predictions.npy')\n",
    "from sklearn.metrics import classification_report\n",
    "print('Train Classification Report:')\n",
    "print(classification_report(np.argmax(y_train, axis=1), np.argmax(predictions, axis=1)))"
   ]
  },
  {
   "cell_type": "code",
   "execution_count": 23,
   "metadata": {
    "_cell_guid": "10fb7477-8122-49fb-be81-1adb7aa45c7f",
    "_uuid": "ab0f2bc7e7bbaced3eb2e4c3acb7c7c63aa73681"
   },
   "outputs": [
    {
     "name": "stdout",
     "output_type": "stream",
     "text": [
      "Test Classification Report:\n",
      "              precision    recall  f1-score   support\n",
      "\n",
      "           0       0.72      0.54      0.62        39\n",
      "           1       0.74      0.72      0.73       110\n",
      "           2       0.72      0.70      0.71        37\n",
      "           3       0.44      0.62      0.51        29\n",
      "           4       0.84      0.69      0.76        54\n",
      "           5       0.67      0.67      0.67        39\n",
      "           6       0.81      0.27      0.40        63\n",
      "           7       0.75      0.80      0.78        56\n",
      "           8       0.67      0.15      0.25        26\n",
      "           9       0.50      0.50      0.50        28\n",
      "          10       0.69      0.74      0.71        34\n",
      "          11       0.21      0.41      0.28        29\n",
      "          12       0.39      0.74      0.51        38\n",
      "          13       0.41      0.41      0.41        27\n",
      "          14       0.55      0.40      0.46        30\n",
      "          15       0.78      0.93      0.85        42\n",
      "          16       0.66      0.69      0.67        55\n",
      "          17       0.49      0.60      0.54        30\n",
      "          18       0.80      0.42      0.55        48\n",
      "          19       0.59      0.68      0.63        28\n",
      "          20       0.51      0.62      0.56        29\n",
      "          21       0.84      0.75      0.79        28\n",
      "          22       0.58      0.28      0.38        25\n",
      "          23       0.17      0.17      0.17        29\n",
      "          24       0.25      0.12      0.16        25\n",
      "          25       0.77      0.61      0.68        33\n",
      "          26       0.52      0.78      0.62        37\n",
      "          27       0.71      0.34      0.47        29\n",
      "          28       0.71      0.78      0.75        32\n",
      "          29       0.70      0.78      0.74        40\n",
      "          30       0.34      0.41      0.38        29\n",
      "          31       0.19      0.53      0.28        32\n",
      "          32       0.89      0.85      0.87        40\n",
      "          33       0.73      0.83      0.78        42\n",
      "          34       0.54      0.47      0.50        32\n",
      "          35       0.64      0.48      0.55        29\n",
      "          36       0.62      0.69      0.66        29\n",
      "          37       0.82      1.00      0.90        32\n",
      "          38       0.51      0.51      0.51        45\n",
      "          39       0.96      0.69      0.80       108\n",
      "          40       0.74      0.70      0.72        33\n",
      "\n",
      "   micro avg       0.61      0.61      0.61      1600\n",
      "   macro avg       0.61      0.59      0.58      1600\n",
      "weighted avg       0.66      0.61      0.61      1600\n",
      "\n"
     ]
    }
   ],
   "source": [
    "if not LOAD:\n",
    "    # Save test predictions\n",
    "    predictions = model.predict(X_test, batch_size=64, verbose=1)\n",
    "    np.save(PREDICTION_FOLDER + '/test_predictions.npy', predictions)\n",
    "    test_eval = model.evaluate(x=X_test, y=y_test, batch_size=64, verbose=1)\n",
    "    print('Test Accuracy: ', test_eval[1])\n",
    "\n",
    "predictions = np.load(PREDICTION_FOLDER + '/test_predictions.npy')\n",
    "\n",
    "from sklearn.metrics import classification_report\n",
    "print('Test Classification Report:')\n",
    "cr = classification_report(np.argmax(y_test, axis=1), np.argmax(predictions, axis=1))\n",
    "print(cr)"
   ]
  },
  {
   "cell_type": "code",
   "execution_count": 21,
   "metadata": {
    "_cell_guid": "10fb7477-8122-49fb-be81-1adb7aa45c7f",
    "_uuid": "ab0f2bc7e7bbaced3eb2e4c3acb7c7c63aa73681"
   },
   "outputs": [
    {
     "name": "stdout",
     "output_type": "stream",
     "text": [
      "Test Top3 Accuracy:  0.804375\n"
     ]
    }
   ],
   "source": [
    "# Calculate top3 accuracy\n",
    "test.reset_index(inplace=True)\n",
    "test.drop(['fname', 'usage', 'freesound_id', 'license'], axis=1, inplace=True)\n",
    "top_3 = np.array(LABELS)[np.argsort(-predictions, axis=1)[:, :3]]\n",
    "predicted_labels = [' '.join(list(x)) for x in top_3]\n",
    "test['predicted_label'] = predicted_labels\n",
    "top3_acc = 0.\n",
    "for index, row in test.iterrows():\n",
    "    if row['label'] in row['predicted_label'].split():\n",
    "        top3_acc += 1\n",
    "top3_acc /= len(test)\n",
    "print('Test Top3 Accuracy: ', top3_acc)"
   ]
  },
  {
   "cell_type": "code",
   "execution_count": 29,
   "metadata": {},
   "outputs": [
    {
     "data": {
      "image/png": "[encoded data removed]",
      "text/plain": [
       "<Figure size 720x720 with 1 Axes>"
      ]
     },
     "metadata": {
      "needs_background": "light"
     },
     "output_type": "display_data"
    }
   ],
   "source": [
    "import seaborn as sns\n",
    "import numpy as np\n",
    "from sklearn.metrics import precision_recall_fscore_support\n",
    "import matplotlib.pyplot as plt\n",
    "\n",
    "y = np.random.randint(low=0, high=10, size=100)\n",
    "y_p = np.random.randint(low=0, high=10, size=100)\n",
    "\n",
    "def plot_classification_report(y_tru, y_prd, figsize=(10, 10), ax=None):\n",
    "\n",
    "    plt.figure(figsize=figsize)\n",
    "\n",
    "    xticks = ['precision', 'recall', 'f1-score', 'support']\n",
    "    yticks = list(np.unique(y_tru))\n",
    "    yticks += ['avg']\n",
    "\n",
    "    rep = np.array(precision_recall_fscore_support(y_tru, y_prd)).T\n",
    "    avg = np.mean(rep, axis=0)\n",
    "    avg[-1] = np.sum(rep[:, -1])\n",
    "    rep = np.insert(rep, rep.shape[0], avg, axis=0)\n",
    "\n",
    "    sns.heatmap(rep,\n",
    "                annot=True, \n",
    "                cbar=False, \n",
    "                xticklabels=xticks, \n",
    "                yticklabels=yticks,\n",
    "                ax=ax)\n",
    "\n",
    "plot_classification_report(np.argmax(y_test, axis=1), np.argmax(predictions, axis=1))"
   ]
  },
  {
   "cell_type": "code",
   "execution_count": 1,
   "metadata": {},
   "outputs": [],
   "source": [
    "plot_classification_report(cr)\n",
    "plt.savefig('test_plot_classif_report.png', dpi=200, format='png', bbox_inches='tight')\n",
    "plt.close()"
   ]
  },
  {
   "cell_type": "code",
   "execution_count": null,
   "metadata": {},
   "outputs": [],
   "source": []
  }
 ],
 "metadata": {
  "kernelspec": {
   "display_name": "Python 3",
   "language": "python",
   "name": "python3"
  },
  "language_info": {
   "codemirror_mode": {
    "name": "ipython",
    "version": 3
   },
   "file_extension": ".py",
   "mimetype": "text/x-python",
   "name": "python",
   "nbconvert_exporter": "python",
   "pygments_lexer": "ipython3",
   "version": "3.6.6"
  }
 },
 "nbformat": 4,
 "nbformat_minor": 2
}
